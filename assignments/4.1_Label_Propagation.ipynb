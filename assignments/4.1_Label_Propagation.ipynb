{
  "cells": [
    {
      "cell_type": "markdown",
      "source": "# Label Propagation\n\n## Label propagation is similar to training a classification model and then using that model to make predictions on test data. The key difference is that in general, our analogue to the test data has no labels against which to evaluate our model. In this exercise, we keep the entire set of true labels for illustrative purposes, but the vast marjority of them play no role in training the model. \n\n## This exercise is adapted from scikit-learn's [tutorial](https://scikit-learn.org/stable/auto_examples/semi_supervised/plot_label_propagation_digits.html) on zero shot learning .",
      "metadata": {
        "id": "ieUiNqS3KCZw",
        "cell_id": "00000-2c31b878-1183-4bb1-b4e6-852cdc30e7f7",
        "deepnote_cell_type": "markdown"
      }
    },
    {
      "cell_type": "markdown",
      "source": "### Load the necessary modules and functions",
      "metadata": {
        "id": "IESgGiUAlfZn",
        "cell_id": "00001-368de388-cc15-4972-927c-778e99025a27",
        "deepnote_cell_type": "markdown"
      }
    },
    {
      "cell_type": "code",
      "metadata": {
        "id": "hOVZd8fjgJyK",
        "cell_id": "00002-53975cb5-7d26-45ec-a865-2600856b0c9d",
        "deepnote_to_be_reexecuted": false,
        "source_hash": "a8f07c6f",
        "execution_start": 1618267904149,
        "execution_millis": 1775,
        "deepnote_cell_type": "code"
      },
      "source": "import numpy as np\nimport matplotlib.pyplot as plt\n\nfrom scipy import stats\n\nfrom sklearn import datasets\nfrom sklearn.semi_supervised import LabelSpreading\n\nfrom sklearn.metrics import confusion_matrix, classification_report",
      "execution_count": 1,
      "outputs": []
    },
    {
      "cell_type": "markdown",
      "source": "### Exercise: Load and preprocess the data. \n1. Shuffle the indices\n2. Use the shuffled indices to extract 1000 random samples from the features data\n3. Extract the corresponding 1000 labels and images\n4. Copy the labels. Treat the first 50 shuffled samples as labeled data and the rest as unlabeled data. Replace the labels after the first 50 with -1.\n\nWe'll use this copy of our labels (with 50 labels known and the other 950 hidden) to train our model, and use the original copy (with all 1000 labels known) to evaluate the model.",
      "metadata": {
        "id": "0An6u8e9loVQ",
        "cell_id": "00003-c989cb8e-700a-4278-8e32-57b8aa6e1832",
        "deepnote_cell_type": "markdown"
      }
    },
    {
      "cell_type": "code",
      "source": "digits.keys()",
      "metadata": {
        "tags": [],
        "cell_id": "00004-0dd1dfa9-bfd0-4200-b79a-0419d1302af3",
        "deepnote_to_be_reexecuted": false,
        "source_hash": "de586733",
        "execution_start": 1618268083392,
        "execution_millis": 8,
        "deepnote_cell_type": "code"
      },
      "outputs": [
        {
          "output_type": "execute_result",
          "execution_count": 8,
          "data": {
            "text/plain": "dict_keys(['data', 'target', 'frame', 'feature_names', 'target_names', 'images', 'DESCR'])"
          },
          "metadata": {}
        }
      ],
      "execution_count": 8
    },
    {
      "cell_type": "code",
      "source": "# digits = {data,target,indices}; n = 1797\ndigits = datasets.load_digits()",
      "metadata": {
        "tags": [],
        "cell_id": "00004-9229fcb0-6914-417b-9434-bc8bf1d1b27d",
        "deepnote_to_be_reexecuted": false,
        "source_hash": "4a708f7a",
        "execution_start": 1618267982989,
        "execution_millis": 147,
        "deepnote_cell_type": "code"
      },
      "outputs": [],
      "execution_count": 2
    },
    {
      "cell_type": "code",
      "metadata": {
        "id": "XyaWhrhCgJyO",
        "cell_id": "00004-4e3cf4c0-5dae-42a2-baed-8a09f11a105e",
        "deepnote_to_be_reexecuted": false,
        "source_hash": "2e77d77c",
        "execution_millis": 65,
        "execution_start": 1618271413925,
        "deepnote_cell_type": "code"
      },
      "source": "# Load the digits dataset\n# digits = {data,target,indices}; n = 1797\ndigits = datasets.load_digits()\ndata = digits['data']\ntargets = digits['target']\nimages = digits['images']\n\n# Set the random state to 2 for reproducibility\nrng = np.random.RandomState(2)\n\n### START CODE HERE ###\n# Initialize the indices as an ordered array, with each element corresponding to a sample in the dataset\nindices = np.arange(0, data.shape[0])\n\n# Shuffle the indices\nrng.shuffle(indices)\n\n# Use the shuffled indices to extract 1000 feature vectors, labels, and images\nn_total_samples = 1000\n# Features\nX = data[indices[:n_total_samples]]\n# Labels\ny = targets[indices[:n_total_samples]]\n# Images\nimages = images[indices[:n_total_samples]]\n\n# Copy the labels\ny_train = y.copy()\n\n# Replace all of the elements of y_train after the first 50 with -1, rendering them unlabeled\nn_labeled_points = 250\n# Conduct the label replacement\ny_train[n_labeled_points:] = -1\n### END CODE HERE ###",
      "execution_count": 114,
      "outputs": []
    },
    {
      "cell_type": "markdown",
      "source": "### Verify that the labels are randomly distributed and all the labels after the first 50 in `y_train` are hidden",
      "metadata": {
        "id": "Ij_hVMtyvomW",
        "cell_id": "00005-60ada159-29e6-4115-90d6-c9c10c163095",
        "deepnote_cell_type": "markdown"
      }
    },
    {
      "cell_type": "code",
      "metadata": {
        "id": "39CAoaBzgJyR",
        "cell_id": "00006-e7a30803-24df-4845-8437-4d791dcb9d71",
        "deepnote_to_be_reexecuted": false,
        "source_hash": "11030ed1",
        "execution_millis": 12,
        "execution_start": 1618271414223,
        "deepnote_cell_type": "code"
      },
      "source": "print(y_train[0:100]), print(y_train[n_labeled_points:100]) ",
      "execution_count": 115,
      "outputs": [
        {
          "name": "stdout",
          "text": "[4 0 9 1 4 7 1 5 1 6 6 7 6 1 5 5 4 6 2 7 4 6 4 1 5 2 9 5 4 6 5 6 3 4 0 9 9\n 8 4 6 8 8 5 7 9 6 9 6 1 3 0 1 9 7 3 3 1 1 8 8 9 8 5 4 4 7 3 5 8 4 3 1 3 8\n 7 3 3 0 8 7 2 8 5 3 8 7 6 4 6 2 2 0 1 1 5 3 5 7 6 8]\n[]\n",
          "output_type": "stream"
        },
        {
          "output_type": "execute_result",
          "execution_count": 115,
          "data": {
            "text/plain": "(None, None)"
          },
          "metadata": {}
        }
      ]
    },
    {
      "cell_type": "markdown",
      "source": "### Exercise: Train the label propagation model with `gamma = 0.25` and `max_iter = 20`\n\n### Make sure you pass in the correct version of the target array, i.e. the one containing unlabeled data",
      "metadata": {
        "id": "40hk3UKewEZe",
        "cell_id": "00007-d33c2585-5d82-48f0-a189-5f2ed505d307",
        "deepnote_cell_type": "markdown"
      }
    },
    {
      "cell_type": "code",
      "metadata": {
        "id": "8wHcs3qkgJyW",
        "cell_id": "00008-05f1d9d0-a896-40f2-b45e-763bb8c7ee6d",
        "deepnote_to_be_reexecuted": false,
        "source_hash": "27661fb6",
        "execution_millis": 207,
        "execution_start": 1618271415462,
        "deepnote_cell_type": "code"
      },
      "source": "### START CODE HERE ###\n# Initialize the model\nlp_model = LabelSpreading(gamma=0.25, max_iter=20)\n# Train the model\nlp_model.fit(X, y_train)\n### END CODE HERE ###",
      "execution_count": 116,
      "outputs": [
        {
          "output_type": "execute_result",
          "execution_count": 116,
          "data": {
            "text/plain": "LabelSpreading(gamma=0.25, max_iter=20)"
          },
          "metadata": {}
        }
      ]
    },
    {
      "cell_type": "markdown",
      "source": "### Exercise: Evaluate the model's performance on the unlabeled data",
      "metadata": {
        "id": "LTBwLj2Gy8qM",
        "cell_id": "00009-3bf99a4c-709c-486a-8368-761f2a82ada8",
        "deepnote_cell_type": "markdown"
      }
    },
    {
      "cell_type": "code",
      "metadata": {
        "id": "CjFO-PxjgJya",
        "cell_id": "00010-104fab6b-2342-4049-b80a-b94a129c8a5f",
        "deepnote_to_be_reexecuted": false,
        "source_hash": "39c5f219",
        "execution_millis": 18,
        "execution_start": 1618271416547,
        "deepnote_cell_type": "code"
      },
      "source": "### START CODE HERE ###\n# Extract the label predictions for the unlabeled data\npredicted_labels = lp_model.transduction_[n_labeled_points:]\n# Extract the true labels of the unlabeled data\ntrue_labels = y[n_labeled_points:]\n# Compute the confusion matrix between the true and predicted labels of the unlabeled data\ncm = confusion_matrix(true_labels, predicted_labels)\n### END CODE HERE ###\nprint(\"Label Spreading model: %d labeled & %d unlabeled points (%d total)\" %\n      (n_labeled_points, n_total_samples - n_labeled_points, n_total_samples))\n\nprint(classification_report(true_labels, predicted_labels))\n\nprint(\"Confusion matrix\")\nprint(cm)",
      "execution_count": 117,
      "outputs": [
        {
          "name": "stdout",
          "text": "Label Spreading model: 250 labeled & 750 unlabeled points (1000 total)\n              precision    recall  f1-score   support\n\n           0       1.00      1.00      1.00        81\n           1       0.93      0.97      0.95        70\n           2       1.00      0.90      0.95        70\n           3       0.91      0.99      0.95        80\n           4       1.00      1.00      1.00        73\n           5       0.99      0.93      0.96        81\n           6       1.00      1.00      1.00        86\n           7       1.00      0.99      0.99        67\n           8       0.94      0.89      0.91        66\n           9       0.89      0.96      0.92        76\n\n    accuracy                           0.96       750\n   macro avg       0.97      0.96      0.96       750\nweighted avg       0.97      0.96      0.96       750\n\nConfusion matrix\n[[81  0  0  0  0  0  0  0  0  0]\n [ 0 68  0  0  0  1  0  0  1  0]\n [ 0  4 63  1  0  0  0  0  2  0]\n [ 0  0  0 79  0  0  0  0  0  1]\n [ 0  0  0  0 73  0  0  0  0  0]\n [ 0  0  0  0  0 75  0  0  0  6]\n [ 0  0  0  0  0  0 86  0  0  0]\n [ 0  0  0  0  0  0  0 66  0  1]\n [ 0  1  0  5  0  0  0  0 59  1]\n [ 0  0  0  2  0  0  0  0  1 73]]\n",
          "output_type": "stream"
        }
      ]
    },
    {
      "cell_type": "markdown",
      "source": "### Exercise: Find the 10 most uncertain labels in descending order of uncertainty, i.e. the labels for which the model made the least confident predictions. Plot the associated images. Observe any discrepancies between predicted and true labels. Do you see any patterns? What might account for them? ",
      "metadata": {
        "id": "Hwlk3ptY1YrL",
        "cell_id": "00011-1d92dc27-3a4e-48af-805c-277fccbafdbe",
        "deepnote_cell_type": "markdown"
      }
    },
    {
      "cell_type": "code",
      "metadata": {
        "id": "2ajvW97mgJyf",
        "cell_id": "00012-6b2c5b25-def1-442b-990b-dd08fc6b4639",
        "deepnote_to_be_reexecuted": false,
        "source_hash": "bec592b9",
        "execution_millis": 1245,
        "execution_start": 1618271209743,
        "deepnote_cell_type": "code"
      },
      "source": "### START CODE HERE ###\n# Calculate uncertainty values for each transduced distribution\n# You may scipy stats' entropy() function useful.\npred_prob = lp_model.predict_proba(X[n_labeled_points:])\npred_entropies = stats.entropy(pred_prob, axis=1)\n\n# Pick the top 10 most uncertain labels, in descending order of uncertainty\nk = 20\nuncertainty_index = np.argsort(-1. * pred_entropies)[:k]\n\n### END CODE HERE ###\n\n# Plot\nf = plt.figure(figsize=(12, 14))\nfor index, image_index in enumerate(uncertainty_index):\n    image = images[image_index]\n\n    sub = f.add_subplot(4, 5, index + 1)\n    sub.imshow(image, cmap=plt.cm.gray_r)\n    plt.xticks([])\n    plt.yticks([])\n    title_ = \"predict: {predict}\\ntrue: {true: .1f}\\nprobability: {prob: .3f}\\nnext option: {next_o}\"\n    title_ = title_.format(\n        predict=lp_model.transduction_[image_index],\n        true=y[image_index],\n        prob=pred_prob[image_index].max(),\n        next_o=pred_prob[image_index].argsort()[::-1][1]\n    )\n\n    sub.set_title(title_)\n\nf.suptitle('Learning with small amount of labeled data')\nplt.show()",
      "execution_count": 102,
      "outputs": [
        {
          "data": {
            "text/plain": "<Figure size 864x1008 with 20 Axes>",
            "image/png": "[encoded data removed]"
          },
          "metadata": {},
          "output_type": "display_data"
        }
      ]
    },
    {
      "cell_type": "markdown",
      "source": "### Exercise: Repeat the experiment with 10, 100, and 250 labeled images. How do the differing numbers of labeled samples affect the model's performance? Which number detections yield the most errors?\n\n",
      "metadata": {
        "id": "xD119mlU69jb",
        "cell_id": "00013-6df7a8f6-42e0-44a9-82a8-d09687f62979",
        "deepnote_cell_type": "markdown"
      }
    },
    {
      "cell_type": "markdown",
      "source": "Label Spreading model: 50 labeled & 950 unlabeled points (1000 total)\n              precision    recall  f1-score   support\n\n           0       1.00      1.00      1.00        98\n           1       0.85      0.90      0.88        93\n           2       0.99      0.78      0.87        91\n           3       0.92      0.90      0.91       108\n           4       0.97      1.00      0.98        88\n           5       0.97      0.93      0.95       102\n           6       0.97      1.00      0.99       100\n           7       0.98      0.91      0.94        91\n           8       0.86      0.82      0.84        87\n           9       0.77      0.97      0.86        92\n\n    accuracy                           0.92       950\n    macro avg       0.93      0.92      0.92       950\n    weighted avg       0.93      0.92      0.92       950\n\nConfusion matrix\n\n\n      98 0   0   0   0   0   0   0   0   0\n      0  84   0   0   1   1   0   0   3   4\n      0  12  71   0   0   0   0   1   7   0\n      0   0   0  97   0   0   0   1   0  10\n      0   0   0   0  88   0   0   0   0   0\n      0   0   0   0   0  95   0   0   0   7\n      0   0   0   0   0   0 100   0   0   0\n      0   0   0   0   0   2   0  83   0   6\n      0   3   1   8   1   0   3   0  71   0\n      0   0   0   0   1   0   0   0   2  89",
      "metadata": {
        "tags": [],
        "cell_id": "00017-b950d667-a077-423b-aff0-83a90d3d589e",
        "deepnote_cell_type": "markdown"
      }
    },
    {
      "cell_type": "markdown",
      "source": "",
      "metadata": {
        "tags": [],
        "cell_id": "00018-63135e0c-e4c9-450d-b7da-6ef2335c0318",
        "deepnote_cell_type": "markdown"
      }
    },
    {
      "cell_type": "markdown",
      "source": "Label Spreading model: 10 labeled & 990 unlabeled points (1000 total)\n              precision    recall  f1-score   support\n\n           0       1.00      1.00      1.00        99\n           1       0.40      0.93      0.56        96\n           2       0.00      0.00      0.00        93\n           3       0.00      0.00      0.00       110\n           4       0.76      0.97      0.85        94\n           5       0.92      0.94      0.93       108\n           6       0.95      0.99      0.97       109\n           7       0.91      0.99      0.95        94\n           8       0.00      0.00      0.00        90\n           9       0.34      0.77      0.47        97\n\n    accuracy                           0.66       990\n    macro avg       0.53      0.66      0.57       990\n    weighted avg       0.53      0.66      0.58       990\n\n\nConfusion matrix\n\n\n    99   0   0   0   0   0   0   0   0   0\n    0  89   0   0   1   0   5   0   0   1\n    0  80   0   0   1   0   1   3   0   8\n    0   5   0   0   3   2   0   2   0  98\n    0   0   0   0  91   0   0   3   0   0\n    0   0   0   0   2 101   0   0   0   5\n    0   0   0   0   0   1 108   0   0   0\n    0   0   0   0   1   0   0  93   0   0\n    0  42   0   0  11   3   0   0   0  34\n    0   8   0   0  10   3   0   1   0  75",
      "metadata": {
        "tags": [],
        "cell_id": "00018-438992be-854d-4a60-ad3f-8573b7a39689",
        "deepnote_cell_type": "markdown"
      }
    },
    {
      "cell_type": "markdown",
      "source": "",
      "metadata": {
        "tags": [],
        "cell_id": "00019-5b8c56c4-c738-417a-833f-fb420ce27881",
        "deepnote_cell_type": "markdown"
      }
    },
    {
      "cell_type": "markdown",
      "source": "Label Spreading model: 100 labeled & 900 unlabeled points (1000 total)\n              precision    recall  f1-score   support\n\n           0       1.00      1.00      1.00        95\n           1       0.92      0.99      0.96        87\n           2       1.00      0.90      0.95        88\n           3       0.93      0.96      0.95        99\n           4       0.98      1.00      0.99        84\n           5       0.97      0.93      0.95        97\n           6       1.00      1.00      1.00        97\n           7       1.00      0.91      0.95        85\n           8       0.96      0.92      0.94        78\n           9       0.83      0.96      0.89        90\n\n    accuracy                           0.96       900\n    macro avg       0.96      0.96      0.96       900\n    weighted avg       0.96      0.96      0.96       900\n\nConfusion matrix\n\n\n      95  0  0  0  0  0  0  0  0  0\n      0 86  0  0  0  1  0  0  0  0\n      0  4 79  3  0  0  0  0  2  0\n      0  0  0 95  0  0  0  0  0  4\n      0  0  0  0 84  0  0  0  0  0\n      0  0  0  0  0 90  0  0  0  7\n      0  0  0  0  0  0 97  0  0  0\n      0  0  0  0  0  2  0 77  0  6\n      0  3  0  2  1  0  0  0 72  0\n      0  0  0  2  1  0  0  0  1 86",
      "metadata": {
        "tags": [],
        "cell_id": "00020-cd047e60-796a-4d8a-90ef-9443d501e7f5",
        "deepnote_cell_type": "markdown"
      }
    },
    {
      "cell_type": "markdown",
      "source": "",
      "metadata": {
        "tags": [],
        "cell_id": "00021-73c68022-7cf5-4f24-a041-112a49fed8d5",
        "deepnote_cell_type": "markdown"
      }
    },
    {
      "cell_type": "markdown",
      "source": "Label Spreading model: 250 labeled & 750 unlabeled points (1000 total)\n              precision    recall  f1-score   support\n\n           0       1.00      1.00      1.00        81\n           1       0.93      0.97      0.95        70\n           2       1.00      0.90      0.95        70\n           3       0.91      0.99      0.95        80\n           4       1.00      1.00      1.00        73\n           5       0.99      0.93      0.96        81\n           6       1.00      1.00      1.00        86\n           7       1.00      0.99      0.99        67\n           8       0.94      0.89      0.91        66\n           9       0.89      0.96      0.92        76\n\n    accuracy                           0.96       750\n    macro avg       0.97      0.96      0.96       750\n    weighted avg       0.97      0.96      0.96       750\n\nConfusion matrix\n\n    81  0  0  0  0  0  0  0  0  0\n    0 68  0  0  0  1  0  0  1  0\n    0  4 63  1  0  0  0  0  2  0\n    0  0  0 79  0  0  0  0  0  1\n    0  0  0  0 73  0  0  0  0  0\n    0  0  0  0  0 75  0  0  0  6\n    0  0  0  0  0  0 86  0  0  0\n    0  0  0  0  0  0  0 66  0  1\n    0  1  0  5  0  0  0  0 59  1\n    0  0  0  2  0  0  0  0  1 73",
      "metadata": {
        "tags": [],
        "cell_id": "00022-1a12e0c2-7b6e-4b92-9bfd-9ecfbbc231bd",
        "deepnote_cell_type": "markdown"
      }
    },
    {
      "cell_type": "markdown",
      "source": "The big observation is that as we increase the size of the training set the model performs better overall, though 50 seems like a good number where we get a good performance on a small fraction of the data. \n\nSome of the numbers that the model seems to struggle with the most are 9 and 1, as well as 9 and 3 and also 2 and 1, which looking at the image is not surprising gien how close they are to one another in some cases.",
      "metadata": {
        "tags": [],
        "cell_id": "00023-eb90e042-3d83-4824-811a-78baf0fa5f60",
        "deepnote_cell_type": "markdown"
      }
    },
    {
      "cell_type": "markdown",
      "source": "",
      "metadata": {
        "tags": [],
        "cell_id": "00023-915ca5a3-d7d4-4992-b1af-63075ae994b5",
        "deepnote_cell_type": "markdown"
      }
    },
    {
      "cell_type": "markdown",
      "source": "<a style='text-decoration:none;line-height:16px;display:flex;color:#5B5B62;padding:10px;justify-content:end;' href='https://deepnote.com?utm_source=created-in-deepnote-cell&projectId=3d281695-f4e9-4212-a682-42c233d829cc' target=\"_blank\">\n<img alt='Created in deepnote.com' style='display:inline;max-height:16px;margin:0px;margin-right:7.5px;' src='data:image/svg+xml;base64,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' > </img>\nCreated in <span style='font-weight:600;margin-left:4px;'>Deepnote</span></a>",
      "metadata": {
        "tags": [],
        "created_in_deepnote_cell": true,
        "deepnote_cell_type": "markdown"
      }
    }
  ],
  "nbformat": 4,
  "nbformat_minor": 0,
  "metadata": {
    "kernelspec": {
      "display_name": "Python 3",
      "language": "python",
      "name": "python3"
    },
    "language_info": {
      "codemirror_mode": {
        "name": "ipython",
        "version": 3
      },
      "file_extension": ".py",
      "mimetype": "text/x-python",
      "name": "python",
      "nbconvert_exporter": "python",
      "pygments_lexer": "ipython3",
      "version": "3.8.5"
    },
    "colab": {
      "name": "4.1_Label_Propagation.ipynb",
      "provenance": [
        {
          "file_id": "1wR4Sk33vvBwuPkDoYo8VlGMChED39t0t",
          "timestamp": 1604606505111
        }
      ],
      "collapsed_sections": []
    },
    "deepnote_notebook_id": "af2544b7-ad40-4bde-9bf1-f208b7a91ad0",
    "deepnote": {},
    "deepnote_execution_queue": []
  }
}