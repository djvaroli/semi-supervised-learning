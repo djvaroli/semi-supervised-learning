{
  "cells": [
    {
      "cell_type": "markdown",
      "source": "# Today you are a Machine Learning Engineer at the Department of New Products at Target Cosmetics!\nThis work relies on processed data from Kaggle https://www.kaggle.com/mkechinov/ecommerce-events-history-in-cosmetics-shop\n\nThis work is motivated by the publication https://arxiv.org/pdf/2102.01625.pdf\n\nFurther details are at: https://arxiv.org/pdf/2010.02503.pdf\n\n### So far you have seen user-product interaction data that can lead to classification of a user-product relationship as ending in purchase or no-purchase, and for clustering (categorizing) user behaviors.\n### In this assignment, you have access to user-product level interactions without any insights into the user behaviors. Your goal is to classify if the \"Products\" will sell at least 5 pieces in a month (denoted by `Purchased?` =`1) or not. The intention is to utilize as minimum product level as possible (price and product category only) at first and then designing a more complex system that ingests more product level information.\n### Labeled data is sparse, and the intention is to maximize Recall (so that no popular cosmetic is understocked). Digital overstocking is allowed since it will not cause disengagement in customers.",
      "metadata": {
        "id": "_lnMVXWu2yoG",
        "cell_id": "00000-93b86183-8876-4db9-942d-b8a731e13a45",
        "deepnote_cell_type": "markdown"
      }
    },
    {
      "cell_type": "code",
      "metadata": {
        "id": "Wr4gFV2i2yoJ",
        "cell_id": "00001-b7a501ac-95fb-4b5c-b937-6b5042e78149",
        "deepnote_cell_type": "code"
      },
      "source": "# The session-level data that is mined for this work is as follows:\nfrom IPython.display import Image\nImage(filename='image10.png')",
      "execution_count": null,
      "outputs": []
    },
    {
      "cell_type": "markdown",
      "source": "## This week you are helping plan the launch of new products! You start with minimal product information and then identify what other information is helpful for the task!\n\n## The minimal product level information available to you about the new products is their cost range and product category (cream, foundation, lipcolor, etc..).\n\n## You have to figure out how to mine the past cosmetic sales data from last month, utilize relevant features and to make estimations as to which products will sell more (`Purchased?` = 1)\n\n## Task 0: Getting to know the Data!",
      "metadata": {
        "id": "tRrXSVcM2yoO",
        "cell_id": "00002-68de503c-3f71-4d04-8e54-f12028788b46",
        "deepnote_cell_type": "markdown"
      }
    },
    {
      "cell_type": "code",
      "metadata": {
        "id": "dJk12SE52yoP",
        "cell_id": "00003-73c7568f-ea4a-4999-90af-f1309709ad47",
        "deepnote_cell_type": "code"
      },
      "source": "## Importing required Libraries\nimport os\nimport numpy as np\nimport pandas as pd\nfrom sklearn.preprocessing import StandardScaler\nfrom sklearn.decomposition import PCA\nimport seaborn as sb",
      "execution_count": null,
      "outputs": []
    },
    {
      "cell_type": "code",
      "metadata": {
        "id": "lfwUwPtq2yoR",
        "cell_id": "00004-a3502d1a-821c-409b-8469-bbf685f54622",
        "deepnote_cell_type": "code"
      },
      "source": "# Load the data from previous months (past)\nPast = pd.read_csv(\"Past_month_products.csv\")\nprint(Past.shape)\nPast.head()",
      "execution_count": null,
      "outputs": []
    },
    {
      "cell_type": "code",
      "metadata": {
        "id": "vW5WsvMM2yoU",
        "cell_id": "00005-52984422-c037-4716-a1ca-0371dfba9648",
        "deepnote_cell_type": "code"
      },
      "source": "# Next, load the data regarding products to be launched next month\nNext = pd.read_csv(\"Next_month_products.csv\")\nprint(Next.shape)\nNext.head()\n",
      "execution_count": null,
      "outputs": []
    },
    {
      "cell_type": "markdown",
      "source": "### Only the `product_id`, `maxPrice`, `minPrice`, and `Category` columns are common to both the training and test data",
      "metadata": {
        "id": "ykrvRDWd2yoX",
        "cell_id": "00006-0ec97ed1-4dca-430c-874f-9ab6c66db901",
        "deepnote_cell_type": "markdown"
      }
    },
    {
      "cell_type": "markdown",
      "source": "# Task 1: Exploratory Data Analysis (EDA) and Data Preparation\n## EDA: Doing our your due diligence. Find the following:\n1. Percentage of Purchased events in train data: \n2. Percentage of Purchased events in test data:\n3. Are there any overlaps in product ID between train and test data?",
      "metadata": {
        "id": "w_BUJ-Ex2yoX",
        "cell_id": "00007-bf341c37-4ba5-4fce-92b2-059251eabd0d",
        "deepnote_cell_type": "markdown"
      }
    },
    {
      "cell_type": "code",
      "metadata": {
        "id": "P-Vl3Tka2yoX",
        "cell_id": "00008-6db54a46-4d19-4cd7-8e7c-f3ea991c505a",
        "deepnote_cell_type": "code"
      },
      "source": "### START CODE HERE ###\ny_train = None\nprint(f\"Percentage of Purchased in Training data = {None}\")\ny_test = Next['Purchased?'].values\nprint(f\"Percentage of Purchased in Test data = {None}\")\n\n# Verify that every product ID in the training data appears only once\nprint(f\"Every product ID in the training data appears only once: {None}\")\n# Verify that every product ID in the test data appears only once\nprint(f\"Every product ID in the test data appears only once: {None}\")\n# Determine whether any product IDs appear in both the training and test data\noverlap = None\nprint(f\"These product IDs are present in both the training and test data: {overlap}\")\n### END CODE HERE ###",
      "execution_count": null,
      "outputs": []
    },
    {
      "cell_type": "markdown",
      "source": "## Next, create `X_train`, `y_train`, `X_test`, and `y_test`. Remember the following: \n1. The `Purchased?` column is the target\n2. `X_train` and `X_test` should contain the same features\n3. `product_id` should NOT be one of those features. Can you see why?",
      "metadata": {
        "id": "ZAT34x3Otid3",
        "cell_id": "00009-6e1e9c19-81ad-4591-ae32-35784102ce1a",
        "deepnote_cell_type": "markdown"
      }
    },
    {
      "cell_type": "code",
      "metadata": {
        "id": "S4ltwfa62yoa",
        "cell_id": "00010-1397766f-ccf4-4c7b-98e8-7d92ccb7b11b",
        "deepnote_cell_type": "code"
      },
      "source": "### START CODE HERE ###\ndef return_train_test_data(df_old, df_new):\n    X_train = None\n    y_train = None\n    X_test  = None\n    y_test  = None\n    return X_train, y_train, X_test, y_test\n### END CODE HERE ###\n    \nX_train, y_train, X_test, y_test = return_train_test_data(Past, Next)    \nprint(X_train.shape, y_train.shape, X_test.shape)",
      "execution_count": null,
      "outputs": []
    },
    {
      "cell_type": "markdown",
      "source": "# Task 2, Baselining: Build the best classifier using the Past month's data that will predict if the Next month's products will be Purchased or not?\n## Consider using AutoML to estimate the best classifier. Which features would you use from the training data?",
      "metadata": {
        "id": "bOPpOWog2yoc",
        "cell_id": "00011-a98d2075-7807-4272-b80a-9a24912b42df",
        "deepnote_cell_type": "markdown"
      }
    },
    {
      "cell_type": "code",
      "metadata": {
        "id": "xynRq9x4QlJL",
        "cell_id": "00012-7be72bfb-22a7-4e61-b7a0-9641bf95c31d",
        "deepnote_cell_type": "code"
      },
      "source": "# Uncomment the following line if using Colab\n# !pip install tpot",
      "execution_count": null,
      "outputs": []
    },
    {
      "cell_type": "code",
      "metadata": {
        "id": "0Z0aR02P2yod",
        "cell_id": "00013-eee3749c-d705-4818-af51-41ab843a284e",
        "deepnote_cell_type": "code"
      },
      "source": "# TPOT for classification\nfrom tpot import TPOTClassifier\n### START CODE HERE ###\n# Instantiate and train a TPOT auto-ML classifier\n# Set generations to 5, population_size to 40, and verbosity to 2 (so you can see each generation's performance)\ntpot = None\nNone\n# Evaluate the classifier on the test data\n# By default, the scoring function is accuracy\nprint(None)\n### END CODE HERE ###\ntpot.export('tpot_products_pipeline.py')",
      "execution_count": null,
      "outputs": []
    },
    {
      "cell_type": "markdown",
      "source": "<!-- ## Modify the file `tpot_products_pipeline.py` to return the prediction labels for `X_test` and paste the function here or reload kernel to reload updated file -->\n\n## Use the appropriate lines of `tpot_products_pipeline.py` (and modify the relevant names) to write a function which returns the predicted labels generated by the best classifier which TPOT found ",
      "metadata": {
        "id": "9p6Ktoj02yof",
        "cell_id": "00014-fd81ab8c-baf0-4577-a535-179604e2e6f3",
        "deepnote_cell_type": "markdown"
      }
    },
    {
      "cell_type": "code",
      "metadata": {
        "id": "wm5Ac97r2yog",
        "cell_id": "00015-fd6b13dc-d0a0-4582-be6a-ce18537c26ef",
        "deepnote_cell_type": "code"
      },
      "source": "from sklearn.decomposition import PCA\nfrom sklearn.pipeline import make_pipeline, make_union\nfrom sklearn.svm import LinearSVC\nfrom tpot.builtins import StackingEstimator\nfrom xgboost import XGBClassifier\nfrom sklearn.tree import DecisionTreeClassifier\n\ndef return_tpot_results(X_train, y_train, X_test):\n    ### START CODE HERE ###\n    exported_pipeline = None\n    \n    None\n    prediction = None\n    ### END CODE HERE ### \n    return prediction\n\npred = return_tpot_results(X_train, y_train, X_test)\n",
      "execution_count": null,
      "outputs": []
    },
    {
      "cell_type": "markdown",
      "source": "## Evaluate the results of the best classifier which TPOT found",
      "metadata": {
        "id": "diQyYboWIb0u",
        "cell_id": "00016-b01dcf85-7593-4bec-9ccb-11b3b513a4ac",
        "deepnote_cell_type": "markdown"
      }
    },
    {
      "cell_type": "code",
      "metadata": {
        "id": "fbGFSnzi2yoi",
        "cell_id": "00017-9f80e451-925c-4a17-b438-dfb9f937e17e",
        "deepnote_cell_type": "code"
      },
      "source": "from sklearn.metrics import confusion_matrix\nfrom sklearn.metrics import accuracy_score as accuracy\nfrom sklearn.metrics import recall_score as recall\nfrom sklearn.metrics import precision_score as precision\nfrom sklearn.metrics import f1_score\n\n### START CODE HERE ###\n# TPOT confusion matrix\ncmtp = None\nacc  = None\nrec  = None\nprec = None\nf1   = None\n### END CODE HERE ###\nprint(f'Accuracy = {acc}, Precision = {prec}, Recall = {rec}, F1-score = {f1}')\nprint('Confusion Matrix is:')\nprint(cmtp)",
      "execution_count": null,
      "outputs": []
    },
    {
      "cell_type": "markdown",
      "source": "# Task 3, Semi-supervised learning: Apply label spreading on the data and run performance analysis by cross validation.\n\nStep 1: Combine `X_train` and `X_test`\n\nStep 2: Combine `y_train` and pad `y_test` with -1 labels\n\nStep 3: Run label spreading on complete data. Use knn spreading with `n_neighbors` varying as 1,3,5,7,9,11. What's the best neighborhood?\n",
      "metadata": {
        "id": "-px8SPVv2yol",
        "cell_id": "00018-3b98e523-0610-4af3-98a2-1ab1fea84f4f",
        "deepnote_cell_type": "markdown"
      }
    },
    {
      "cell_type": "markdown",
      "source": "### Concatenate `X_train` and `X_test`",
      "metadata": {
        "id": "31i6GDQCJsdd",
        "cell_id": "00019-f52120dc-9f43-4da5-a110-c37a58d5f4b9",
        "deepnote_cell_type": "markdown"
      }
    },
    {
      "cell_type": "code",
      "metadata": {
        "id": "OyxJD6So2yol",
        "cell_id": "00020-4220b589-d79b-4b60-91da-dcd27dc8b4f3",
        "deepnote_cell_type": "code"
      },
      "source": "### START CODE HERE ###\nX = None\n### END CODE HERE ### \nprint(X.shape[0])\nprint(y_train.shape)",
      "execution_count": null,
      "outputs": []
    },
    {
      "cell_type": "markdown",
      "source": "### Create an array shaped like a column of `X_test`, with each value equal to -1\n### Make sure the array is a column vector",
      "metadata": {
        "id": "gtpeNzjQJvOy",
        "cell_id": "00021-ff3875f0-0a73-4c55-9fe1-63b9399bb8ef",
        "deepnote_cell_type": "markdown"
      }
    },
    {
      "cell_type": "code",
      "metadata": {
        "id": "OBp058wd2yon",
        "cell_id": "00022-e9f2ee6a-09cf-457f-8671-b4ff374950c5",
        "deepnote_cell_type": "code"
      },
      "source": "### START CODE HERE ###\ny_hat = None\n### END CODE HERE ###",
      "execution_count": null,
      "outputs": []
    },
    {
      "cell_type": "markdown",
      "source": "### Concatenate `y_train` and `y_hat`",
      "metadata": {
        "id": "ta4rlU0qJzBo",
        "cell_id": "00023-bc6fa10f-88fa-41cf-a005-35555092cddd",
        "deepnote_cell_type": "markdown"
      }
    },
    {
      "cell_type": "code",
      "metadata": {
        "id": "UK1QxliM2yop",
        "cell_id": "00024-79b2bc87-0ddb-449c-af96-06121b9474d0",
        "deepnote_cell_type": "code"
      },
      "source": "### START CODE HERE ###\ny = None\n### END CODE HERE ###",
      "execution_count": null,
      "outputs": []
    },
    {
      "cell_type": "markdown",
      "source": "### Instantiate and train the label-spreading model. Use a KNN kernel and set `alpha` to 0.01. Try the `n_neighbors` values mentioned above.",
      "metadata": {
        "id": "sZ9YdmHQKFBB",
        "cell_id": "00025-7f5fe375-2839-43fb-9024-cb7184e53b87",
        "deepnote_cell_type": "markdown"
      }
    },
    {
      "cell_type": "code",
      "metadata": {
        "id": "Ae91aPh82yor",
        "cell_id": "00026-5714f5f5-11bd-4d31-ab6f-b66ecf32286b",
        "deepnote_cell_type": "code"
      },
      "source": "from sklearn.semi_supervised import LabelSpreading\n### START CODE HERE ###\nlp_model = None\nNone\n### END CODE HERE ###",
      "execution_count": null,
      "outputs": []
    },
    {
      "cell_type": "markdown",
      "source": "### Extract the label predictions (transductions) for the test data",
      "metadata": {
        "id": "NUw9UyOxKRkS",
        "cell_id": "00027-9f313225-dc49-4ba6-9abc-7bf18b8cb024",
        "deepnote_cell_type": "markdown"
      }
    },
    {
      "cell_type": "code",
      "metadata": {
        "id": "bOE-d_R02you",
        "cell_id": "00028-e8a1b915-4bff-48a2-b43f-81f74a01ce7e",
        "deepnote_cell_type": "code"
      },
      "source": "### START CODE HERE ###\nsemi_sup_preds = None\n### END CODE HERE",
      "execution_count": null,
      "outputs": []
    },
    {
      "cell_type": "markdown",
      "source": "### Evaluate the test predictions against the true test labels",
      "metadata": {
        "id": "oPyuxT3KKjDf",
        "cell_id": "00029-b420b87a-9736-472c-acb3-a19cd6c82b03",
        "deepnote_cell_type": "markdown"
      }
    },
    {
      "cell_type": "code",
      "metadata": {
        "id": "J4FvLbbg2yow",
        "cell_id": "00030-9d53b105-2dff-4e9e-a2cb-104fa7d3980b",
        "deepnote_cell_type": "code"
      },
      "source": "### START CODE HERE ###\ncm   = None\nacc  = None\nrec  = None\nprec = None\nf1   = None\n### END CODE HERE ###\nprint(f'Accuracy = {acc}, Precision = {prec}, Recall = {rec}, F1-score = {f1}')\nprint('Confusion Matrix is:')\nprint(cm)",
      "execution_count": null,
      "outputs": []
    },
    {
      "cell_type": "markdown",
      "source": "## Observe increase in recall by running label spreading. Tabulate your results\n----------------------------------------------------------------------------------------------------------------\nMethod    |   Recall      |F1-score    | Accuracy    |\n------------------------------------------------------------------------------\nAutoML    |                   |                    |                    |\n-------------------------------------------------------------------------\n### Label Spread |               |                        |                        |",
      "metadata": {
        "id": "k3HziHwE2yoz",
        "cell_id": "00031-41c74c7c-01c5-472a-a0d7-d2594e3ad3ee",
        "deepnote_cell_type": "markdown"
      }
    },
    {
      "cell_type": "markdown",
      "source": "# Task 4, System Design for Zero Shot Learning:\nSo far we have been looking at 3 product level features (min price, max price, Product Category) to classify if a particular product will get get purchased or not.\nNow, let's say you have access to some more information regarding each Past sold cosmetic item and the Next cosmetic item. Design a System to enable accurate identification of an item that is more likely to be purchased.\nThink through the following:\n1. What additional data fields do you need per cosmetic in past and Next catalogue? How would you process these data fields?\n2. You have access to picture images of each cosmetic. How will you use these images to extract relevant features for gauging interest in the new coemetics?\n3. Design an end-to-end system workflow using the additional cosmetic data and cosmetic images to predict its purchasing polularity. \n\n# We will discuss a sample solution in https://docs.google.com/presentation/d/1yhHFZO6vvTNBICr1dkZzbV0cdhaHsaSk/edit#slide=id.p1\n## Make the required changes and put the picture corresponding to Your version of the final System Diagram in the following cell.",
      "metadata": {
        "id": "Unmp-DRM2yoz",
        "cell_id": "00032-ca9d23eb-9bda-4136-9283-e59c07eca3fd",
        "deepnote_cell_type": "markdown"
      }
    },
    {
      "cell_type": "code",
      "metadata": {
        "id": "sBreL_S_2yoz",
        "cell_id": "00033-66af2ebc-8bdc-4686-9e91-79bab64c876c",
        "deepnote_cell_type": "code"
      },
      "source": "",
      "execution_count": null,
      "outputs": []
    },
    {
      "cell_type": "markdown",
      "source": "<a style='text-decoration:none;line-height:16px;display:flex;color:#5B5B62;padding:10px;justify-content:end;' href='https://deepnote.com?utm_source=created-in-deepnote-cell&projectId=3d281695-f4e9-4212-a682-42c233d829cc' target=\"_blank\">\n<img alt='Created in deepnote.com' style='display:inline;max-height:16px;margin:0px;margin-right:7.5px;' src='data:image/svg+xml;base64,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' > </img>\nCreated in <span style='font-weight:600;margin-left:4px;'>Deepnote</span></a>",
      "metadata": {
        "tags": [],
        "created_in_deepnote_cell": true,
        "deepnote_cell_type": "markdown"
      }
    }
  ],
  "nbformat": 4,
  "nbformat_minor": 0,
  "metadata": {
    "colab": {
      "name": "Categorizing_New_Products_At_Target_Cosmetics-v1.ipynb",
      "provenance": [
        {
          "file_id": "10dp26A_dyKxIjRwntqZwPryeltE9xhWV",
          "timestamp": 1605231976437
        },
        {
          "file_id": "1b4Jdh2DtQhSL4Thk4pMKF2sBnKuNbqOr",
          "timestamp": 1605231801624
        }
      ],
      "collapsed_sections": []
    },
    "kernelspec": {
      "display_name": "Python 3",
      "language": "python",
      "name": "python3"
    },
    "language_info": {
      "codemirror_mode": {
        "name": "ipython",
        "version": 3
      },
      "file_extension": ".py",
      "mimetype": "text/x-python",
      "name": "python",
      "nbconvert_exporter": "python",
      "pygments_lexer": "ipython3",
      "version": "3.8.5"
    },
    "deepnote_notebook_id": "c60f0f50-22f3-4085-a54a-dcf40e7563a1",
    "deepnote": {},
    "deepnote_execution_queue": []
  }
}